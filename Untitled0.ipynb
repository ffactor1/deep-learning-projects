{
  "nbformat": 4,
  "nbformat_minor": 0,
  "metadata": {
    "colab": {
      "provenance": [],
      "authorship_tag": "ABX9TyN20O3/IDaEP9HpqmRF4k88",
      "include_colab_link": true
    },
    "kernelspec": {
      "name": "python3",
      "display_name": "Python 3"
    },
    "language_info": {
      "name": "python"
    }
  },
  "cells": [
    {
      "cell_type": "markdown",
      "metadata": {
        "id": "view-in-github",
        "colab_type": "text"
      },
      "source": [
        "<a href=\"https://colab.research.google.com/github/ffactor1/deep-learning-projects/blob/main/Untitled0.ipynb\" target=\"_parent\"><img src=\"https://colab.research.google.com/assets/colab-badge.svg\" alt=\"Open In Colab\"/></a>"
      ]
    },
    {
      "cell_type": "code",
      "execution_count": 2,
      "metadata": {
        "colab": {
          "base_uri": "https://localhost:8080/"
        },
        "id": "_PLULz1Ighe-",
        "outputId": "996033c4-ead8-4914-a3cb-d46e3a6bf6db"
      },
      "outputs": [
        {
          "output_type": "stream",
          "name": "stdout",
          "text": [
            "Cloning into 'deep-learning-projects'...\n",
            "remote: Enumerating objects: 4, done.\u001b[K\n",
            "remote: Counting objects:  25% (1/4)\u001b[K\rremote: Counting objects:  50% (2/4)\u001b[K\rremote: Counting objects:  75% (3/4)\u001b[K\rremote: Counting objects: 100% (4/4)\u001b[K\rremote: Counting objects: 100% (4/4), done.\u001b[K\n",
            "remote: Compressing objects:  25% (1/4)\u001b[K\rremote: Compressing objects:  50% (2/4)\u001b[K\rremote: Compressing objects:  75% (3/4)\u001b[K\rremote: Compressing objects: 100% (4/4)\u001b[K\rremote: Compressing objects: 100% (4/4), done.\u001b[K\n",
            "remote: Total 4 (delta 0), reused 0 (delta 0), pack-reused 0 (from 0)\u001b[K\n",
            "Receiving objects:  25% (1/4)\rReceiving objects:  50% (2/4)\rReceiving objects:  75% (3/4)\rReceiving objects: 100% (4/4)\rReceiving objects: 100% (4/4), done.\n",
            "/content/deep-learning-projects\n"
          ]
        }
      ],
      "source": [
        "!git clone https://github.com/ffactor1/deep-learning-projects.git\n",
        "%cd deep-learning-projects"
      ]
    },
    {
      "cell_type": "code",
      "source": [
        "import os\n",
        "\n",
        "os.makedirs(\"image_classification\", exist_ok=True)\n",
        "os.makedirs(\"time_series_forecast\", exist_ok=True)\n",
        "os.makedirs(\"clinical_nlp\", exist_ok=True)\n"
      ],
      "metadata": {
        "id": "4dDSg-nfg9Qv"
      },
      "execution_count": 3,
      "outputs": []
    }
  ]
}